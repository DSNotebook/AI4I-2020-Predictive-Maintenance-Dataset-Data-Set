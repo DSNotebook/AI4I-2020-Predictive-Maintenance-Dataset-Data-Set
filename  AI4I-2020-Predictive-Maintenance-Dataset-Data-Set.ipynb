{
 "cells": [
  {
   "cell_type": "code",
   "execution_count": 1,
   "id": "759ed616",
   "metadata": {},
   "outputs": [],
   "source": [
    "import numpy as np\n",
    "import pandas as pd\n",
    "import seaborn as sns"
   ]
  },
  {
   "cell_type": "code",
   "execution_count": 2,
   "id": "8b7e6dc7",
   "metadata": {
    "scrolled": true
   },
   "outputs": [],
   "source": [
    "import warnings\n",
    "warnings.filterwarnings('ignore')\n",
    "df=pd.read_csv(r\"C:\\Users\\01_Ravi\\Downloads\\ai4i2020.csv\",header=0)"
   ]
  },
  {
   "cell_type": "code",
   "execution_count": 3,
   "id": "bd03f49b",
   "metadata": {},
   "outputs": [
    {
     "data": {
      "text/html": [
       "<div>\n",
       "<style scoped>\n",
       "    .dataframe tbody tr th:only-of-type {\n",
       "        vertical-align: middle;\n",
       "    }\n",
       "\n",
       "    .dataframe tbody tr th {\n",
       "        vertical-align: top;\n",
       "    }\n",
       "\n",
       "    .dataframe thead th {\n",
       "        text-align: right;\n",
       "    }\n",
       "</style>\n",
       "<table border=\"1\" class=\"dataframe\">\n",
       "  <thead>\n",
       "    <tr style=\"text-align: right;\">\n",
       "      <th></th>\n",
       "      <th>UDI</th>\n",
       "      <th>Product ID</th>\n",
       "      <th>Type</th>\n",
       "      <th>Air temperature [K]</th>\n",
       "      <th>Process temperature [K]</th>\n",
       "      <th>Rotational speed [rpm]</th>\n",
       "      <th>Torque [Nm]</th>\n",
       "      <th>Tool wear [min]</th>\n",
       "      <th>Machine failure</th>\n",
       "      <th>TWF</th>\n",
       "      <th>HDF</th>\n",
       "      <th>PWF</th>\n",
       "      <th>OSF</th>\n",
       "      <th>RNF</th>\n",
       "    </tr>\n",
       "  </thead>\n",
       "  <tbody>\n",
       "    <tr>\n",
       "      <th>0</th>\n",
       "      <td>1</td>\n",
       "      <td>M14860</td>\n",
       "      <td>M</td>\n",
       "      <td>298.1</td>\n",
       "      <td>308.6</td>\n",
       "      <td>1551</td>\n",
       "      <td>42.8</td>\n",
       "      <td>0</td>\n",
       "      <td>0</td>\n",
       "      <td>0</td>\n",
       "      <td>0</td>\n",
       "      <td>0</td>\n",
       "      <td>0</td>\n",
       "      <td>0</td>\n",
       "    </tr>\n",
       "    <tr>\n",
       "      <th>1</th>\n",
       "      <td>2</td>\n",
       "      <td>L47181</td>\n",
       "      <td>L</td>\n",
       "      <td>298.2</td>\n",
       "      <td>308.7</td>\n",
       "      <td>1408</td>\n",
       "      <td>46.3</td>\n",
       "      <td>3</td>\n",
       "      <td>0</td>\n",
       "      <td>0</td>\n",
       "      <td>0</td>\n",
       "      <td>0</td>\n",
       "      <td>0</td>\n",
       "      <td>0</td>\n",
       "    </tr>\n",
       "    <tr>\n",
       "      <th>2</th>\n",
       "      <td>3</td>\n",
       "      <td>L47182</td>\n",
       "      <td>L</td>\n",
       "      <td>298.1</td>\n",
       "      <td>308.5</td>\n",
       "      <td>1498</td>\n",
       "      <td>49.4</td>\n",
       "      <td>5</td>\n",
       "      <td>0</td>\n",
       "      <td>0</td>\n",
       "      <td>0</td>\n",
       "      <td>0</td>\n",
       "      <td>0</td>\n",
       "      <td>0</td>\n",
       "    </tr>\n",
       "    <tr>\n",
       "      <th>3</th>\n",
       "      <td>4</td>\n",
       "      <td>L47183</td>\n",
       "      <td>L</td>\n",
       "      <td>298.2</td>\n",
       "      <td>308.6</td>\n",
       "      <td>1433</td>\n",
       "      <td>39.5</td>\n",
       "      <td>7</td>\n",
       "      <td>0</td>\n",
       "      <td>0</td>\n",
       "      <td>0</td>\n",
       "      <td>0</td>\n",
       "      <td>0</td>\n",
       "      <td>0</td>\n",
       "    </tr>\n",
       "    <tr>\n",
       "      <th>4</th>\n",
       "      <td>5</td>\n",
       "      <td>L47184</td>\n",
       "      <td>L</td>\n",
       "      <td>298.2</td>\n",
       "      <td>308.7</td>\n",
       "      <td>1408</td>\n",
       "      <td>40.0</td>\n",
       "      <td>9</td>\n",
       "      <td>0</td>\n",
       "      <td>0</td>\n",
       "      <td>0</td>\n",
       "      <td>0</td>\n",
       "      <td>0</td>\n",
       "      <td>0</td>\n",
       "    </tr>\n",
       "    <tr>\n",
       "      <th>5</th>\n",
       "      <td>6</td>\n",
       "      <td>M14865</td>\n",
       "      <td>M</td>\n",
       "      <td>298.1</td>\n",
       "      <td>308.6</td>\n",
       "      <td>1425</td>\n",
       "      <td>41.9</td>\n",
       "      <td>11</td>\n",
       "      <td>0</td>\n",
       "      <td>0</td>\n",
       "      <td>0</td>\n",
       "      <td>0</td>\n",
       "      <td>0</td>\n",
       "      <td>0</td>\n",
       "    </tr>\n",
       "    <tr>\n",
       "      <th>6</th>\n",
       "      <td>7</td>\n",
       "      <td>L47186</td>\n",
       "      <td>L</td>\n",
       "      <td>298.1</td>\n",
       "      <td>308.6</td>\n",
       "      <td>1558</td>\n",
       "      <td>42.4</td>\n",
       "      <td>14</td>\n",
       "      <td>0</td>\n",
       "      <td>0</td>\n",
       "      <td>0</td>\n",
       "      <td>0</td>\n",
       "      <td>0</td>\n",
       "      <td>0</td>\n",
       "    </tr>\n",
       "    <tr>\n",
       "      <th>7</th>\n",
       "      <td>8</td>\n",
       "      <td>L47187</td>\n",
       "      <td>L</td>\n",
       "      <td>298.1</td>\n",
       "      <td>308.6</td>\n",
       "      <td>1527</td>\n",
       "      <td>40.2</td>\n",
       "      <td>16</td>\n",
       "      <td>0</td>\n",
       "      <td>0</td>\n",
       "      <td>0</td>\n",
       "      <td>0</td>\n",
       "      <td>0</td>\n",
       "      <td>0</td>\n",
       "    </tr>\n",
       "    <tr>\n",
       "      <th>8</th>\n",
       "      <td>9</td>\n",
       "      <td>M14868</td>\n",
       "      <td>M</td>\n",
       "      <td>298.3</td>\n",
       "      <td>308.7</td>\n",
       "      <td>1667</td>\n",
       "      <td>28.6</td>\n",
       "      <td>18</td>\n",
       "      <td>0</td>\n",
       "      <td>0</td>\n",
       "      <td>0</td>\n",
       "      <td>0</td>\n",
       "      <td>0</td>\n",
       "      <td>0</td>\n",
       "    </tr>\n",
       "    <tr>\n",
       "      <th>9</th>\n",
       "      <td>10</td>\n",
       "      <td>M14869</td>\n",
       "      <td>M</td>\n",
       "      <td>298.5</td>\n",
       "      <td>309.0</td>\n",
       "      <td>1741</td>\n",
       "      <td>28.0</td>\n",
       "      <td>21</td>\n",
       "      <td>0</td>\n",
       "      <td>0</td>\n",
       "      <td>0</td>\n",
       "      <td>0</td>\n",
       "      <td>0</td>\n",
       "      <td>0</td>\n",
       "    </tr>\n",
       "  </tbody>\n",
       "</table>\n",
       "</div>"
      ],
      "text/plain": [
       "   UDI Product ID Type  Air temperature [K]  Process temperature [K]  \\\n",
       "0    1     M14860    M                298.1                    308.6   \n",
       "1    2     L47181    L                298.2                    308.7   \n",
       "2    3     L47182    L                298.1                    308.5   \n",
       "3    4     L47183    L                298.2                    308.6   \n",
       "4    5     L47184    L                298.2                    308.7   \n",
       "5    6     M14865    M                298.1                    308.6   \n",
       "6    7     L47186    L                298.1                    308.6   \n",
       "7    8     L47187    L                298.1                    308.6   \n",
       "8    9     M14868    M                298.3                    308.7   \n",
       "9   10     M14869    M                298.5                    309.0   \n",
       "\n",
       "   Rotational speed [rpm]  Torque [Nm]  Tool wear [min]  Machine failure  TWF  \\\n",
       "0                    1551         42.8                0                0    0   \n",
       "1                    1408         46.3                3                0    0   \n",
       "2                    1498         49.4                5                0    0   \n",
       "3                    1433         39.5                7                0    0   \n",
       "4                    1408         40.0                9                0    0   \n",
       "5                    1425         41.9               11                0    0   \n",
       "6                    1558         42.4               14                0    0   \n",
       "7                    1527         40.2               16                0    0   \n",
       "8                    1667         28.6               18                0    0   \n",
       "9                    1741         28.0               21                0    0   \n",
       "\n",
       "   HDF  PWF  OSF  RNF  \n",
       "0    0    0    0    0  \n",
       "1    0    0    0    0  \n",
       "2    0    0    0    0  \n",
       "3    0    0    0    0  \n",
       "4    0    0    0    0  \n",
       "5    0    0    0    0  \n",
       "6    0    0    0    0  \n",
       "7    0    0    0    0  \n",
       "8    0    0    0    0  \n",
       "9    0    0    0    0  "
      ]
     },
     "execution_count": 3,
     "metadata": {},
     "output_type": "execute_result"
    }
   ],
   "source": [
    "df.head(10)"
   ]
  },
  {
   "cell_type": "code",
   "execution_count": 4,
   "id": "5963b6c1",
   "metadata": {},
   "outputs": [
    {
     "name": "stdout",
     "output_type": "stream",
     "text": [
      "<class 'pandas.core.frame.DataFrame'>\n",
      "RangeIndex: 10000 entries, 0 to 9999\n",
      "Data columns (total 14 columns):\n",
      " #   Column                   Non-Null Count  Dtype  \n",
      "---  ------                   --------------  -----  \n",
      " 0   UDI                      10000 non-null  int64  \n",
      " 1   Product ID               10000 non-null  object \n",
      " 2   Type                     10000 non-null  object \n",
      " 3   Air temperature [K]      10000 non-null  float64\n",
      " 4   Process temperature [K]  10000 non-null  float64\n",
      " 5   Rotational speed [rpm]   10000 non-null  int64  \n",
      " 6   Torque [Nm]              10000 non-null  float64\n",
      " 7   Tool wear [min]          10000 non-null  int64  \n",
      " 8   Machine failure          10000 non-null  int64  \n",
      " 9   TWF                      10000 non-null  int64  \n",
      " 10  HDF                      10000 non-null  int64  \n",
      " 11  PWF                      10000 non-null  int64  \n",
      " 12  OSF                      10000 non-null  int64  \n",
      " 13  RNF                      10000 non-null  int64  \n",
      "dtypes: float64(3), int64(9), object(2)\n",
      "memory usage: 1.1+ MB\n"
     ]
    }
   ],
   "source": [
    "df.info()"
   ]
  },
  {
   "cell_type": "code",
   "execution_count": 5,
   "id": "2aff298f",
   "metadata": {},
   "outputs": [
    {
     "data": {
      "text/html": [
       "<div>\n",
       "<style scoped>\n",
       "    .dataframe tbody tr th:only-of-type {\n",
       "        vertical-align: middle;\n",
       "    }\n",
       "\n",
       "    .dataframe tbody tr th {\n",
       "        vertical-align: top;\n",
       "    }\n",
       "\n",
       "    .dataframe thead th {\n",
       "        text-align: right;\n",
       "    }\n",
       "</style>\n",
       "<table border=\"1\" class=\"dataframe\">\n",
       "  <thead>\n",
       "    <tr style=\"text-align: right;\">\n",
       "      <th></th>\n",
       "      <th>UDI</th>\n",
       "      <th>Air temperature [K]</th>\n",
       "      <th>Process temperature [K]</th>\n",
       "      <th>Rotational speed [rpm]</th>\n",
       "      <th>Torque [Nm]</th>\n",
       "      <th>Tool wear [min]</th>\n",
       "      <th>Machine failure</th>\n",
       "      <th>TWF</th>\n",
       "      <th>HDF</th>\n",
       "      <th>PWF</th>\n",
       "      <th>OSF</th>\n",
       "      <th>RNF</th>\n",
       "    </tr>\n",
       "  </thead>\n",
       "  <tbody>\n",
       "    <tr>\n",
       "      <th>count</th>\n",
       "      <td>10000.00000</td>\n",
       "      <td>10000.000000</td>\n",
       "      <td>10000.000000</td>\n",
       "      <td>10000.000000</td>\n",
       "      <td>10000.000000</td>\n",
       "      <td>10000.000000</td>\n",
       "      <td>10000.000000</td>\n",
       "      <td>10000.000000</td>\n",
       "      <td>10000.000000</td>\n",
       "      <td>10000.000000</td>\n",
       "      <td>10000.000000</td>\n",
       "      <td>10000.00000</td>\n",
       "    </tr>\n",
       "    <tr>\n",
       "      <th>mean</th>\n",
       "      <td>5000.50000</td>\n",
       "      <td>300.004930</td>\n",
       "      <td>310.005560</td>\n",
       "      <td>1538.776100</td>\n",
       "      <td>39.986910</td>\n",
       "      <td>107.951000</td>\n",
       "      <td>0.033900</td>\n",
       "      <td>0.004600</td>\n",
       "      <td>0.011500</td>\n",
       "      <td>0.009500</td>\n",
       "      <td>0.009800</td>\n",
       "      <td>0.00190</td>\n",
       "    </tr>\n",
       "    <tr>\n",
       "      <th>std</th>\n",
       "      <td>2886.89568</td>\n",
       "      <td>2.000259</td>\n",
       "      <td>1.483734</td>\n",
       "      <td>179.284096</td>\n",
       "      <td>9.968934</td>\n",
       "      <td>63.654147</td>\n",
       "      <td>0.180981</td>\n",
       "      <td>0.067671</td>\n",
       "      <td>0.106625</td>\n",
       "      <td>0.097009</td>\n",
       "      <td>0.098514</td>\n",
       "      <td>0.04355</td>\n",
       "    </tr>\n",
       "    <tr>\n",
       "      <th>min</th>\n",
       "      <td>1.00000</td>\n",
       "      <td>295.300000</td>\n",
       "      <td>305.700000</td>\n",
       "      <td>1168.000000</td>\n",
       "      <td>3.800000</td>\n",
       "      <td>0.000000</td>\n",
       "      <td>0.000000</td>\n",
       "      <td>0.000000</td>\n",
       "      <td>0.000000</td>\n",
       "      <td>0.000000</td>\n",
       "      <td>0.000000</td>\n",
       "      <td>0.00000</td>\n",
       "    </tr>\n",
       "    <tr>\n",
       "      <th>25%</th>\n",
       "      <td>2500.75000</td>\n",
       "      <td>298.300000</td>\n",
       "      <td>308.800000</td>\n",
       "      <td>1423.000000</td>\n",
       "      <td>33.200000</td>\n",
       "      <td>53.000000</td>\n",
       "      <td>0.000000</td>\n",
       "      <td>0.000000</td>\n",
       "      <td>0.000000</td>\n",
       "      <td>0.000000</td>\n",
       "      <td>0.000000</td>\n",
       "      <td>0.00000</td>\n",
       "    </tr>\n",
       "    <tr>\n",
       "      <th>50%</th>\n",
       "      <td>5000.50000</td>\n",
       "      <td>300.100000</td>\n",
       "      <td>310.100000</td>\n",
       "      <td>1503.000000</td>\n",
       "      <td>40.100000</td>\n",
       "      <td>108.000000</td>\n",
       "      <td>0.000000</td>\n",
       "      <td>0.000000</td>\n",
       "      <td>0.000000</td>\n",
       "      <td>0.000000</td>\n",
       "      <td>0.000000</td>\n",
       "      <td>0.00000</td>\n",
       "    </tr>\n",
       "    <tr>\n",
       "      <th>75%</th>\n",
       "      <td>7500.25000</td>\n",
       "      <td>301.500000</td>\n",
       "      <td>311.100000</td>\n",
       "      <td>1612.000000</td>\n",
       "      <td>46.800000</td>\n",
       "      <td>162.000000</td>\n",
       "      <td>0.000000</td>\n",
       "      <td>0.000000</td>\n",
       "      <td>0.000000</td>\n",
       "      <td>0.000000</td>\n",
       "      <td>0.000000</td>\n",
       "      <td>0.00000</td>\n",
       "    </tr>\n",
       "    <tr>\n",
       "      <th>max</th>\n",
       "      <td>10000.00000</td>\n",
       "      <td>304.500000</td>\n",
       "      <td>313.800000</td>\n",
       "      <td>2886.000000</td>\n",
       "      <td>76.600000</td>\n",
       "      <td>253.000000</td>\n",
       "      <td>1.000000</td>\n",
       "      <td>1.000000</td>\n",
       "      <td>1.000000</td>\n",
       "      <td>1.000000</td>\n",
       "      <td>1.000000</td>\n",
       "      <td>1.00000</td>\n",
       "    </tr>\n",
       "  </tbody>\n",
       "</table>\n",
       "</div>"
      ],
      "text/plain": [
       "               UDI  Air temperature [K]  Process temperature [K]  \\\n",
       "count  10000.00000         10000.000000             10000.000000   \n",
       "mean    5000.50000           300.004930               310.005560   \n",
       "std     2886.89568             2.000259                 1.483734   \n",
       "min        1.00000           295.300000               305.700000   \n",
       "25%     2500.75000           298.300000               308.800000   \n",
       "50%     5000.50000           300.100000               310.100000   \n",
       "75%     7500.25000           301.500000               311.100000   \n",
       "max    10000.00000           304.500000               313.800000   \n",
       "\n",
       "       Rotational speed [rpm]   Torque [Nm]  Tool wear [min]  Machine failure  \\\n",
       "count            10000.000000  10000.000000     10000.000000     10000.000000   \n",
       "mean              1538.776100     39.986910       107.951000         0.033900   \n",
       "std                179.284096      9.968934        63.654147         0.180981   \n",
       "min               1168.000000      3.800000         0.000000         0.000000   \n",
       "25%               1423.000000     33.200000        53.000000         0.000000   \n",
       "50%               1503.000000     40.100000       108.000000         0.000000   \n",
       "75%               1612.000000     46.800000       162.000000         0.000000   \n",
       "max               2886.000000     76.600000       253.000000         1.000000   \n",
       "\n",
       "                TWF           HDF           PWF           OSF          RNF  \n",
       "count  10000.000000  10000.000000  10000.000000  10000.000000  10000.00000  \n",
       "mean       0.004600      0.011500      0.009500      0.009800      0.00190  \n",
       "std        0.067671      0.106625      0.097009      0.098514      0.04355  \n",
       "min        0.000000      0.000000      0.000000      0.000000      0.00000  \n",
       "25%        0.000000      0.000000      0.000000      0.000000      0.00000  \n",
       "50%        0.000000      0.000000      0.000000      0.000000      0.00000  \n",
       "75%        0.000000      0.000000      0.000000      0.000000      0.00000  \n",
       "max        1.000000      1.000000      1.000000      1.000000      1.00000  "
      ]
     },
     "execution_count": 5,
     "metadata": {},
     "output_type": "execute_result"
    }
   ],
   "source": [
    "df.describe()"
   ]
  },
  {
   "cell_type": "code",
   "execution_count": 6,
   "id": "62ba7776",
   "metadata": {},
   "outputs": [
    {
     "data": {
      "text/plain": [
       "0    9981\n",
       "1      19\n",
       "Name: RNF, dtype: int64"
      ]
     },
     "execution_count": 6,
     "metadata": {},
     "output_type": "execute_result"
    },
    {
     "data": {
      "image/png": "[encoded data removed]",
      "text/plain": [
       "<Figure size 640x480 with 1 Axes>"
      ]
     },
     "metadata": {},
     "output_type": "display_data"
    }
   ],
   "source": [
    "sns.countplot(x=df.RNF)\n",
    "df.RNF.value_counts()"
   ]
  },
  {
   "cell_type": "code",
   "execution_count": 7,
   "id": "56d53d03",
   "metadata": {},
   "outputs": [
    {
     "data": {
      "text/plain": [
       "0    9954\n",
       "1      46\n",
       "Name: TWF, dtype: int64"
      ]
     },
     "execution_count": 7,
     "metadata": {},
     "output_type": "execute_result"
    }
   ],
   "source": [
    "df.TWF.value_counts()"
   ]
  },
  {
   "cell_type": "code",
   "execution_count": 8,
   "id": "dd83d6b5",
   "metadata": {},
   "outputs": [
    {
     "data": {
      "text/plain": [
       "L    6000\n",
       "M    2997\n",
       "H    1003\n",
       "Name: Type, dtype: int64"
      ]
     },
     "execution_count": 8,
     "metadata": {},
     "output_type": "execute_result"
    }
   ],
   "source": [
    "df.Type.value_counts()"
   ]
  },
  {
   "cell_type": "code",
   "execution_count": 9,
   "id": "42e882e0",
   "metadata": {},
   "outputs": [
    {
     "data": {
      "text/plain": [
       "<Axes: xlabel='Type', ylabel='Count'>"
      ]
     },
     "execution_count": 9,
     "metadata": {},
     "output_type": "execute_result"
    },
    {
     "data": {
      "image/png": "[encoded data removed]",
      "text/plain": [
       "<Figure size 640x480 with 1 Axes>"
      ]
     },
     "metadata": {},
     "output_type": "display_data"
    }
   ],
   "source": [
    "sns.histplot(df.Type)"
   ]
  },
  {
   "cell_type": "code",
   "execution_count": 10,
   "id": "29b9ee7f",
   "metadata": {},
   "outputs": [
    {
     "data": {
      "text/plain": [
       "<Axes: >"
      ]
     },
     "execution_count": 10,
     "metadata": {},
     "output_type": "execute_result"
    },
    {
     "data": {
      "image/png": "[encoded data removed]",
      "text/plain": [
       "<Figure size 640x480 with 1 Axes>"
      ]
     },
     "metadata": {},
     "output_type": "display_data"
    }
   ],
   "source": [
    "sns.boxplot(df['Air temperature [K]'])"
   ]
  },
  {
   "cell_type": "code",
   "execution_count": 19,
   "id": "a92e631d",
   "metadata": {},
   "outputs": [
    {
     "data": {
      "text/html": [
       "<div>\n",
       "<style scoped>\n",
       "    .dataframe tbody tr th:only-of-type {\n",
       "        vertical-align: middle;\n",
       "    }\n",
       "\n",
       "    .dataframe tbody tr th {\n",
       "        vertical-align: top;\n",
       "    }\n",
       "\n",
       "    .dataframe thead th {\n",
       "        text-align: right;\n",
       "    }\n",
       "</style>\n",
       "<table border=\"1\" class=\"dataframe\">\n",
       "  <thead>\n",
       "    <tr style=\"text-align: right;\">\n",
       "      <th></th>\n",
       "      <th>UDI</th>\n",
       "      <th>Product ID</th>\n",
       "      <th>Type</th>\n",
       "      <th>Air temperature [K]</th>\n",
       "      <th>Process temperature [K]</th>\n",
       "      <th>Rotational speed [rpm]</th>\n",
       "      <th>Torque [Nm]</th>\n",
       "      <th>Tool wear [min]</th>\n",
       "      <th>Machine failure</th>\n",
       "      <th>TWF</th>\n",
       "      <th>HDF</th>\n",
       "      <th>PWF</th>\n",
       "      <th>OSF</th>\n",
       "      <th>RNF</th>\n",
       "    </tr>\n",
       "  </thead>\n",
       "  <tbody>\n",
       "    <tr>\n",
       "      <th>UDI</th>\n",
       "      <td>1.000000</td>\n",
       "      <td>0.463158</td>\n",
       "      <td>0.005529</td>\n",
       "      <td>0.117428</td>\n",
       "      <td>0.324428</td>\n",
       "      <td>-0.006615</td>\n",
       "      <td>0.003207</td>\n",
       "      <td>-0.010702</td>\n",
       "      <td>-0.022892</td>\n",
       "      <td>0.009154</td>\n",
       "      <td>-0.022215</td>\n",
       "      <td>-0.023557</td>\n",
       "      <td>-0.000990</td>\n",
       "      <td>-0.005954</td>\n",
       "    </tr>\n",
       "    <tr>\n",
       "      <th>Product ID</th>\n",
       "      <td>0.463158</td>\n",
       "      <td>1.000000</td>\n",
       "      <td>0.866083</td>\n",
       "      <td>0.067602</td>\n",
       "      <td>0.160825</td>\n",
       "      <td>-0.006476</td>\n",
       "      <td>0.005000</td>\n",
       "      <td>-0.011603</td>\n",
       "      <td>-0.016975</td>\n",
       "      <td>0.003112</td>\n",
       "      <td>-0.011577</td>\n",
       "      <td>-0.001518</td>\n",
       "      <td>-0.024276</td>\n",
       "      <td>-0.020691</td>\n",
       "    </tr>\n",
       "    <tr>\n",
       "      <th>Type</th>\n",
       "      <td>0.005529</td>\n",
       "      <td>0.866083</td>\n",
       "      <td>1.000000</td>\n",
       "      <td>0.017599</td>\n",
       "      <td>0.013444</td>\n",
       "      <td>-0.002693</td>\n",
       "      <td>0.004011</td>\n",
       "      <td>-0.003930</td>\n",
       "      <td>-0.005152</td>\n",
       "      <td>-0.005349</td>\n",
       "      <td>0.000108</td>\n",
       "      <td>0.012121</td>\n",
       "      <td>-0.021211</td>\n",
       "      <td>-0.022147</td>\n",
       "    </tr>\n",
       "    <tr>\n",
       "      <th>Air temperature [K]</th>\n",
       "      <td>0.117428</td>\n",
       "      <td>0.067602</td>\n",
       "      <td>0.017599</td>\n",
       "      <td>1.000000</td>\n",
       "      <td>0.876107</td>\n",
       "      <td>0.022670</td>\n",
       "      <td>-0.013778</td>\n",
       "      <td>0.013853</td>\n",
       "      <td>0.082556</td>\n",
       "      <td>0.009955</td>\n",
       "      <td>0.137831</td>\n",
       "      <td>0.003470</td>\n",
       "      <td>0.001988</td>\n",
       "      <td>0.017688</td>\n",
       "    </tr>\n",
       "    <tr>\n",
       "      <th>Process temperature [K]</th>\n",
       "      <td>0.324428</td>\n",
       "      <td>0.160825</td>\n",
       "      <td>0.013444</td>\n",
       "      <td>0.876107</td>\n",
       "      <td>1.000000</td>\n",
       "      <td>0.019277</td>\n",
       "      <td>-0.014061</td>\n",
       "      <td>0.013488</td>\n",
       "      <td>0.035946</td>\n",
       "      <td>0.007315</td>\n",
       "      <td>0.056933</td>\n",
       "      <td>-0.003355</td>\n",
       "      <td>0.004554</td>\n",
       "      <td>0.022279</td>\n",
       "    </tr>\n",
       "    <tr>\n",
       "      <th>Rotational speed [rpm]</th>\n",
       "      <td>-0.006615</td>\n",
       "      <td>-0.006476</td>\n",
       "      <td>-0.002693</td>\n",
       "      <td>0.022670</td>\n",
       "      <td>0.019277</td>\n",
       "      <td>1.000000</td>\n",
       "      <td>-0.875027</td>\n",
       "      <td>0.000223</td>\n",
       "      <td>-0.044188</td>\n",
       "      <td>0.010389</td>\n",
       "      <td>-0.121241</td>\n",
       "      <td>0.123018</td>\n",
       "      <td>-0.104575</td>\n",
       "      <td>-0.013088</td>\n",
       "    </tr>\n",
       "    <tr>\n",
       "      <th>Torque [Nm]</th>\n",
       "      <td>0.003207</td>\n",
       "      <td>0.005000</td>\n",
       "      <td>0.004011</td>\n",
       "      <td>-0.013778</td>\n",
       "      <td>-0.014061</td>\n",
       "      <td>-0.875027</td>\n",
       "      <td>1.000000</td>\n",
       "      <td>-0.003093</td>\n",
       "      <td>0.191321</td>\n",
       "      <td>-0.014662</td>\n",
       "      <td>0.142610</td>\n",
       "      <td>0.083781</td>\n",
       "      <td>0.183465</td>\n",
       "      <td>0.016136</td>\n",
       "    </tr>\n",
       "    <tr>\n",
       "      <th>Tool wear [min]</th>\n",
       "      <td>-0.010702</td>\n",
       "      <td>-0.011603</td>\n",
       "      <td>-0.003930</td>\n",
       "      <td>0.013853</td>\n",
       "      <td>0.013488</td>\n",
       "      <td>0.000223</td>\n",
       "      <td>-0.003093</td>\n",
       "      <td>1.000000</td>\n",
       "      <td>0.105448</td>\n",
       "      <td>0.115792</td>\n",
       "      <td>-0.001287</td>\n",
       "      <td>-0.009334</td>\n",
       "      <td>0.155894</td>\n",
       "      <td>0.011326</td>\n",
       "    </tr>\n",
       "    <tr>\n",
       "      <th>Machine failure</th>\n",
       "      <td>-0.022892</td>\n",
       "      <td>-0.016975</td>\n",
       "      <td>-0.005152</td>\n",
       "      <td>0.082556</td>\n",
       "      <td>0.035946</td>\n",
       "      <td>-0.044188</td>\n",
       "      <td>0.191321</td>\n",
       "      <td>0.105448</td>\n",
       "      <td>1.000000</td>\n",
       "      <td>0.362904</td>\n",
       "      <td>0.575800</td>\n",
       "      <td>0.522812</td>\n",
       "      <td>0.531083</td>\n",
       "      <td>0.004516</td>\n",
       "    </tr>\n",
       "    <tr>\n",
       "      <th>TWF</th>\n",
       "      <td>0.009154</td>\n",
       "      <td>0.003112</td>\n",
       "      <td>-0.005349</td>\n",
       "      <td>0.009955</td>\n",
       "      <td>0.007315</td>\n",
       "      <td>0.010389</td>\n",
       "      <td>-0.014662</td>\n",
       "      <td>0.115792</td>\n",
       "      <td>0.362904</td>\n",
       "      <td>1.000000</td>\n",
       "      <td>-0.007332</td>\n",
       "      <td>0.008577</td>\n",
       "      <td>0.038243</td>\n",
       "      <td>0.030970</td>\n",
       "    </tr>\n",
       "    <tr>\n",
       "      <th>HDF</th>\n",
       "      <td>-0.022215</td>\n",
       "      <td>-0.011577</td>\n",
       "      <td>0.000108</td>\n",
       "      <td>0.137831</td>\n",
       "      <td>0.056933</td>\n",
       "      <td>-0.121241</td>\n",
       "      <td>0.142610</td>\n",
       "      <td>-0.001287</td>\n",
       "      <td>0.575800</td>\n",
       "      <td>-0.007332</td>\n",
       "      <td>1.000000</td>\n",
       "      <td>0.018443</td>\n",
       "      <td>0.046396</td>\n",
       "      <td>-0.004706</td>\n",
       "    </tr>\n",
       "    <tr>\n",
       "      <th>PWF</th>\n",
       "      <td>-0.023557</td>\n",
       "      <td>-0.001518</td>\n",
       "      <td>0.012121</td>\n",
       "      <td>0.003470</td>\n",
       "      <td>-0.003355</td>\n",
       "      <td>0.123018</td>\n",
       "      <td>0.083781</td>\n",
       "      <td>-0.009334</td>\n",
       "      <td>0.522812</td>\n",
       "      <td>0.008577</td>\n",
       "      <td>0.018443</td>\n",
       "      <td>1.000000</td>\n",
       "      <td>0.115836</td>\n",
       "      <td>-0.004273</td>\n",
       "    </tr>\n",
       "    <tr>\n",
       "      <th>OSF</th>\n",
       "      <td>-0.000990</td>\n",
       "      <td>-0.024276</td>\n",
       "      <td>-0.021211</td>\n",
       "      <td>0.001988</td>\n",
       "      <td>0.004554</td>\n",
       "      <td>-0.104575</td>\n",
       "      <td>0.183465</td>\n",
       "      <td>0.155894</td>\n",
       "      <td>0.531083</td>\n",
       "      <td>0.038243</td>\n",
       "      <td>0.046396</td>\n",
       "      <td>0.115836</td>\n",
       "      <td>1.000000</td>\n",
       "      <td>-0.004341</td>\n",
       "    </tr>\n",
       "    <tr>\n",
       "      <th>RNF</th>\n",
       "      <td>-0.005954</td>\n",
       "      <td>-0.020691</td>\n",
       "      <td>-0.022147</td>\n",
       "      <td>0.017688</td>\n",
       "      <td>0.022279</td>\n",
       "      <td>-0.013088</td>\n",
       "      <td>0.016136</td>\n",
       "      <td>0.011326</td>\n",
       "      <td>0.004516</td>\n",
       "      <td>0.030970</td>\n",
       "      <td>-0.004706</td>\n",
       "      <td>-0.004273</td>\n",
       "      <td>-0.004341</td>\n",
       "      <td>1.000000</td>\n",
       "    </tr>\n",
       "  </tbody>\n",
       "</table>\n",
       "</div>"
      ],
      "text/plain": [
       "                              UDI  Product ID      Type  Air temperature [K]  \\\n",
       "UDI                      1.000000    0.463158  0.005529             0.117428   \n",
       "Product ID               0.463158    1.000000  0.866083             0.067602   \n",
       "Type                     0.005529    0.866083  1.000000             0.017599   \n",
       "Air temperature [K]      0.117428    0.067602  0.017599             1.000000   \n",
       "Process temperature [K]  0.324428    0.160825  0.013444             0.876107   \n",
       "Rotational speed [rpm]  -0.006615   -0.006476 -0.002693             0.022670   \n",
       "Torque [Nm]              0.003207    0.005000  0.004011            -0.013778   \n",
       "Tool wear [min]         -0.010702   -0.011603 -0.003930             0.013853   \n",
       "Machine failure         -0.022892   -0.016975 -0.005152             0.082556   \n",
       "TWF                      0.009154    0.003112 -0.005349             0.009955   \n",
       "HDF                     -0.022215   -0.011577  0.000108             0.137831   \n",
       "PWF                     -0.023557   -0.001518  0.012121             0.003470   \n",
       "OSF                     -0.000990   -0.024276 -0.021211             0.001988   \n",
       "RNF                     -0.005954   -0.020691 -0.022147             0.017688   \n",
       "\n",
       "                         Process temperature [K]  Rotational speed [rpm]  \\\n",
       "UDI                                     0.324428               -0.006615   \n",
       "Product ID                              0.160825               -0.006476   \n",
       "Type                                    0.013444               -0.002693   \n",
       "Air temperature [K]                     0.876107                0.022670   \n",
       "Process temperature [K]                 1.000000                0.019277   \n",
       "Rotational speed [rpm]                  0.019277                1.000000   \n",
       "Torque [Nm]                            -0.014061               -0.875027   \n",
       "Tool wear [min]                         0.013488                0.000223   \n",
       "Machine failure                         0.035946               -0.044188   \n",
       "TWF                                     0.007315                0.010389   \n",
       "HDF                                     0.056933               -0.121241   \n",
       "PWF                                    -0.003355                0.123018   \n",
       "OSF                                     0.004554               -0.104575   \n",
       "RNF                                     0.022279               -0.013088   \n",
       "\n",
       "                         Torque [Nm]  Tool wear [min]  Machine failure  \\\n",
       "UDI                         0.003207        -0.010702        -0.022892   \n",
       "Product ID                  0.005000        -0.011603        -0.016975   \n",
       "Type                        0.004011        -0.003930        -0.005152   \n",
       "Air temperature [K]        -0.013778         0.013853         0.082556   \n",
       "Process temperature [K]    -0.014061         0.013488         0.035946   \n",
       "Rotational speed [rpm]     -0.875027         0.000223        -0.044188   \n",
       "Torque [Nm]                 1.000000        -0.003093         0.191321   \n",
       "Tool wear [min]            -0.003093         1.000000         0.105448   \n",
       "Machine failure             0.191321         0.105448         1.000000   \n",
       "TWF                        -0.014662         0.115792         0.362904   \n",
       "HDF                         0.142610        -0.001287         0.575800   \n",
       "PWF                         0.083781        -0.009334         0.522812   \n",
       "OSF                         0.183465         0.155894         0.531083   \n",
       "RNF                         0.016136         0.011326         0.004516   \n",
       "\n",
       "                              TWF       HDF       PWF       OSF       RNF  \n",
       "UDI                      0.009154 -0.022215 -0.023557 -0.000990 -0.005954  \n",
       "Product ID               0.003112 -0.011577 -0.001518 -0.024276 -0.020691  \n",
       "Type                    -0.005349  0.000108  0.012121 -0.021211 -0.022147  \n",
       "Air temperature [K]      0.009955  0.137831  0.003470  0.001988  0.017688  \n",
       "Process temperature [K]  0.007315  0.056933 -0.003355  0.004554  0.022279  \n",
       "Rotational speed [rpm]   0.010389 -0.121241  0.123018 -0.104575 -0.013088  \n",
       "Torque [Nm]             -0.014662  0.142610  0.083781  0.183465  0.016136  \n",
       "Tool wear [min]          0.115792 -0.001287 -0.009334  0.155894  0.011326  \n",
       "Machine failure          0.362904  0.575800  0.522812  0.531083  0.004516  \n",
       "TWF                      1.000000 -0.007332  0.008577  0.038243  0.030970  \n",
       "HDF                     -0.007332  1.000000  0.018443  0.046396 -0.004706  \n",
       "PWF                      0.008577  0.018443  1.000000  0.115836 -0.004273  \n",
       "OSF                      0.038243  0.046396  0.115836  1.000000 -0.004341  \n",
       "RNF                      0.030970 -0.004706 -0.004273 -0.004341  1.000000  "
      ]
     },
     "execution_count": 19,
     "metadata": {},
     "output_type": "execute_result"
    }
   ],
   "source": [
    "df.corr()"
   ]
  },
  {
   "cell_type": "code",
   "execution_count": 20,
   "id": "370e5c97",
   "metadata": {},
   "outputs": [
    {
     "data": {
      "text/plain": [
       "<Axes: >"
      ]
     },
     "execution_count": 20,
     "metadata": {},
     "output_type": "execute_result"
    },
    {
     "data": {
      "image/png": "[encoded data removed]",
      "text/plain": [
       "<Figure size 640x480 with 2 Axes>"
      ]
     },
     "metadata": {},
     "output_type": "display_data"
    }
   ],
   "source": [
    "sns.heatmap(df.corr())"
   ]
  },
  {
   "cell_type": "code",
   "execution_count": 21,
   "id": "d7058a25",
   "metadata": {},
   "outputs": [
    {
     "data": {
      "text/plain": [
       "UDI                        0\n",
       "Product ID                 0\n",
       "Type                       0\n",
       "Air temperature [K]        0\n",
       "Process temperature [K]    0\n",
       "Rotational speed [rpm]     0\n",
       "Torque [Nm]                0\n",
       "Tool wear [min]            0\n",
       "Machine failure            0\n",
       "TWF                        0\n",
       "HDF                        0\n",
       "PWF                        0\n",
       "OSF                        0\n",
       "RNF                        0\n",
       "dtype: int64"
      ]
     },
     "execution_count": 21,
     "metadata": {},
     "output_type": "execute_result"
    }
   ],
   "source": [
    "df.isnull().sum()"
   ]
  },
  {
   "cell_type": "code",
   "execution_count": 22,
   "id": "c40be2f4",
   "metadata": {},
   "outputs": [],
   "source": [
    "from sklearn.preprocessing import LabelEncoder"
   ]
  },
  {
   "cell_type": "code",
   "execution_count": 23,
   "id": "ad761dbe",
   "metadata": {},
   "outputs": [],
   "source": [
    "enc=LabelEncoder()"
   ]
  },
  {
   "cell_type": "code",
   "execution_count": 24,
   "id": "2eba9164",
   "metadata": {},
   "outputs": [],
   "source": [
    "df[\"Type\"]=enc.fit_transform(df[\"Type\"])"
   ]
  },
  {
   "cell_type": "code",
   "execution_count": 25,
   "id": "6a8d58c5",
   "metadata": {},
   "outputs": [],
   "source": [
    "df[\"Product ID\"]=enc.fit_transform(df[\"Product ID\"])"
   ]
  },
  {
   "cell_type": "code",
   "execution_count": 26,
   "id": "33c88438",
   "metadata": {},
   "outputs": [
    {
     "data": {
      "text/plain": [
       "0    9661\n",
       "1     339\n",
       "Name: Machine failure, dtype: int64"
      ]
     },
     "execution_count": 26,
     "metadata": {},
     "output_type": "execute_result"
    }
   ],
   "source": [
    "df[\"Machine failure\"].value_counts()"
   ]
  },
  {
   "cell_type": "code",
   "execution_count": 27,
   "id": "0cdc0afe",
   "metadata": {},
   "outputs": [],
   "source": [
    "x=df.drop(columns=['UDI','Product ID','Machine failure',\"TWF\",'HDF','PWF','OSF','RNF'])"
   ]
  },
  {
   "cell_type": "code",
   "execution_count": 28,
   "id": "c22c91ca",
   "metadata": {},
   "outputs": [],
   "source": [
    "y=df[\"Machine failure\"]"
   ]
  },
  {
   "cell_type": "code",
   "execution_count": 29,
   "id": "22fb7ea5",
   "metadata": {},
   "outputs": [],
   "source": [
    "from sklearn.tree import DecisionTreeClassifier"
   ]
  },
  {
   "cell_type": "code",
   "execution_count": 30,
   "id": "ff54f734",
   "metadata": {},
   "outputs": [],
   "source": [
    "model=DecisionTreeClassifier(random_state=0)"
   ]
  },
  {
   "cell_type": "code",
   "execution_count": 31,
   "id": "6b43353d",
   "metadata": {},
   "outputs": [
    {
     "data": {
      "text/html": [
       "<style>#sk-container-id-1 {color: black;background-color: white;}#sk-container-id-1 pre{padding: 0;}#sk-container-id-1 div.sk-toggleable {background-color: white;}#sk-container-id-1 label.sk-toggleable__label {cursor: pointer;display: block;width: 100%;margin-bottom: 0;padding: 0.3em;box-sizing: border-box;text-align: center;}#sk-container-id-1 label.sk-toggleable__label-arrow:before {content: \"▸\";float: left;margin-right: 0.25em;color: #696969;}#sk-container-id-1 label.sk-toggleable__label-arrow:hover:before {color: black;}#sk-container-id-1 div.sk-estimator:hover label.sk-toggleable__label-arrow:before {color: black;}#sk-container-id-1 div.sk-toggleable__content {max-height: 0;max-width: 0;overflow: hidden;text-align: left;background-color: #f0f8ff;}#sk-container-id-1 div.sk-toggleable__content pre {margin: 0.2em;color: black;border-radius: 0.25em;background-color: #f0f8ff;}#sk-container-id-1 input.sk-toggleable__control:checked~div.sk-toggleable__content {max-height: 200px;max-width: 100%;overflow: auto;}#sk-container-id-1 input.sk-toggleable__control:checked~label.sk-toggleable__label-arrow:before {content: \"▾\";}#sk-container-id-1 div.sk-estimator input.sk-toggleable__control:checked~label.sk-toggleable__label {background-color: #d4ebff;}#sk-container-id-1 div.sk-label input.sk-toggleable__control:checked~label.sk-toggleable__label {background-color: #d4ebff;}#sk-container-id-1 input.sk-hidden--visually {border: 0;clip: rect(1px 1px 1px 1px);clip: rect(1px, 1px, 1px, 1px);height: 1px;margin: -1px;overflow: hidden;padding: 0;position: absolute;width: 1px;}#sk-container-id-1 div.sk-estimator {font-family: monospace;background-color: #f0f8ff;border: 1px dotted black;border-radius: 0.25em;box-sizing: border-box;margin-bottom: 0.5em;}#sk-container-id-1 div.sk-estimator:hover {background-color: #d4ebff;}#sk-container-id-1 div.sk-parallel-item::after {content: \"\";width: 100%;border-bottom: 1px solid gray;flex-grow: 1;}#sk-container-id-1 div.sk-label:hover label.sk-toggleable__label {background-color: #d4ebff;}#sk-container-id-1 div.sk-serial::before {content: \"\";position: absolute;border-left: 1px solid gray;box-sizing: border-box;top: 0;bottom: 0;left: 50%;z-index: 0;}#sk-container-id-1 div.sk-serial {display: flex;flex-direction: column;align-items: center;background-color: white;padding-right: 0.2em;padding-left: 0.2em;position: relative;}#sk-container-id-1 div.sk-item {position: relative;z-index: 1;}#sk-container-id-1 div.sk-parallel {display: flex;align-items: stretch;justify-content: center;background-color: white;position: relative;}#sk-container-id-1 div.sk-item::before, #sk-container-id-1 div.sk-parallel-item::before {content: \"\";position: absolute;border-left: 1px solid gray;box-sizing: border-box;top: 0;bottom: 0;left: 50%;z-index: -1;}#sk-container-id-1 div.sk-parallel-item {display: flex;flex-direction: column;z-index: 1;position: relative;background-color: white;}#sk-container-id-1 div.sk-parallel-item:first-child::after {align-self: flex-end;width: 50%;}#sk-container-id-1 div.sk-parallel-item:last-child::after {align-self: flex-start;width: 50%;}#sk-container-id-1 div.sk-parallel-item:only-child::after {width: 0;}#sk-container-id-1 div.sk-dashed-wrapped {border: 1px dashed gray;margin: 0 0.4em 0.5em 0.4em;box-sizing: border-box;padding-bottom: 0.4em;background-color: white;}#sk-container-id-1 div.sk-label label {font-family: monospace;font-weight: bold;display: inline-block;line-height: 1.2em;}#sk-container-id-1 div.sk-label-container {text-align: center;}#sk-container-id-1 div.sk-container {/* jupyter's `normalize.less` sets `[hidden] { display: none; }` but bootstrap.min.css set `[hidden] { display: none !important; }` so we also need the `!important` here to be able to override the default hidden behavior on the sphinx rendered scikit-learn.org. See: https://github.com/scikit-learn/scikit-learn/issues/21755 */display: inline-block !important;position: relative;}#sk-container-id-1 div.sk-text-repr-fallback {display: none;}</style><div id=\"sk-container-id-1\" class=\"sk-top-container\"><div class=\"sk-text-repr-fallback\"><pre>DecisionTreeClassifier(random_state=0)</pre><b>In a Jupyter environment, please rerun this cell to show the HTML representation or trust the notebook. <br />On GitHub, the HTML representation is unable to render, please try loading this page with nbviewer.org.</b></div><div class=\"sk-container\" hidden><div class=\"sk-item\"><div class=\"sk-estimator sk-toggleable\"><input class=\"sk-toggleable__control sk-hidden--visually\" id=\"sk-estimator-id-1\" type=\"checkbox\" checked><label for=\"sk-estimator-id-1\" class=\"sk-toggleable__label sk-toggleable__label-arrow\">DecisionTreeClassifier</label><div class=\"sk-toggleable__content\"><pre>DecisionTreeClassifier(random_state=0)</pre></div></div></div></div></div>"
      ],
      "text/plain": [
       "DecisionTreeClassifier(random_state=0)"
      ]
     },
     "execution_count": 31,
     "metadata": {},
     "output_type": "execute_result"
    }
   ],
   "source": [
    "model.fit(x[:7000],y[:7000])"
   ]
  },
  {
   "cell_type": "code",
   "execution_count": 32,
   "id": "8d19666e",
   "metadata": {},
   "outputs": [],
   "source": [
    "pred=model.predict(x)"
   ]
  },
  {
   "cell_type": "code",
   "execution_count": 33,
   "id": "89847b94",
   "metadata": {},
   "outputs": [
    {
     "data": {
      "text/plain": [
       "0.9947"
      ]
     },
     "execution_count": 33,
     "metadata": {},
     "output_type": "execute_result"
    }
   ],
   "source": [
    "from sklearn.metrics import accuracy_score,classification_report\n",
    "accuracy_score(pred,y)"
   ]
  },
  {
   "cell_type": "code",
   "execution_count": 38,
   "id": "ecbbc6ca",
   "metadata": {},
   "outputs": [],
   "source": [
    "#test Data"
   ]
  },
  {
   "cell_type": "code",
   "execution_count": 39,
   "id": "7249a801",
   "metadata": {},
   "outputs": [],
   "source": [
    "tpred=model.predict(x[7001:])"
   ]
  },
  {
   "cell_type": "code",
   "execution_count": 40,
   "id": "212cb7c8",
   "metadata": {},
   "outputs": [
    {
     "data": {
      "text/plain": [
       "0.9823274424808269"
      ]
     },
     "execution_count": 40,
     "metadata": {},
     "output_type": "execute_result"
    }
   ],
   "source": [
    "accuracy_score(tpred,y[7001:])"
   ]
  },
  {
   "cell_type": "code",
   "execution_count": 41,
   "id": "80525d79",
   "metadata": {},
   "outputs": [
    {
     "name": "stdout",
     "output_type": "stream",
     "text": [
      "              precision    recall  f1-score   support\n",
      "\n",
      "           0       1.00      1.00      1.00      9652\n",
      "           1       0.94      0.91      0.92       348\n",
      "\n",
      "    accuracy                           0.99     10000\n",
      "   macro avg       0.97      0.95      0.96     10000\n",
      "weighted avg       0.99      0.99      0.99     10000\n",
      "\n"
     ]
    }
   ],
   "source": [
    "print(classification_report(pred,y))"
   ]
  },
  {
   "cell_type": "code",
   "execution_count": 42,
   "id": "152706ab",
   "metadata": {},
   "outputs": [
    {
     "data": {
      "text/plain": [
       "<Axes: >"
      ]
     },
     "execution_count": 42,
     "metadata": {},
     "output_type": "execute_result"
    },
    {
     "data": {
      "image/png": "[encoded data removed]",
      "text/plain": [
       "<Figure size 640x480 with 1 Axes>"
      ]
     },
     "metadata": {},
     "output_type": "display_data"
    }
   ],
   "source": [
    "feat=pd.Series(model.feature_importances_,index=x.columns)\n",
    "\n",
    "feat.plot(kind='barh')"
   ]
  },
  {
   "cell_type": "code",
   "execution_count": 43,
   "id": "0c44d78f",
   "metadata": {},
   "outputs": [
    {
     "name": "stdout",
     "output_type": "stream",
     "text": [
      "              precision    recall  f1-score   support\n",
      "\n",
      "           0       0.99      0.99      0.99      2929\n",
      "           1       0.64      0.56      0.60        70\n",
      "\n",
      "    accuracy                           0.98      2999\n",
      "   macro avg       0.81      0.77      0.79      2999\n",
      "weighted avg       0.98      0.98      0.98      2999\n",
      "\n"
     ]
    }
   ],
   "source": [
    "print(classification_report(tpred,y[7001:]))"
   ]
  },
  {
   "cell_type": "code",
   "execution_count": 44,
   "id": "754dfba3",
   "metadata": {},
   "outputs": [
    {
     "data": {
      "text/plain": [
       "<Axes: >"
      ]
     },
     "execution_count": 44,
     "metadata": {},
     "output_type": "execute_result"
    },
    {
     "data": {
      "image/png": "[encoded data removed]",
      "text/plain": [
       "<Figure size 640x480 with 1 Axes>"
      ]
     },
     "metadata": {},
     "output_type": "display_data"
    }
   ],
   "source": [
    "feat=pd.Series(model.feature_importances_,index=x.columns)\n",
    "\n",
    "feat.plot(kind='barh')"
   ]
  },
  {
   "cell_type": "code",
   "execution_count": 45,
   "id": "313adef6",
   "metadata": {},
   "outputs": [
    {
     "data": {
      "text/plain": [
       "{'ccp_alpha': 0.0,\n",
       " 'class_weight': None,\n",
       " 'criterion': 'gini',\n",
       " 'max_depth': None,\n",
       " 'max_features': None,\n",
       " 'max_leaf_nodes': None,\n",
       " 'min_impurity_decrease': 0.0,\n",
       " 'min_samples_leaf': 1,\n",
       " 'min_samples_split': 2,\n",
       " 'min_weight_fraction_leaf': 0.0,\n",
       " 'random_state': 0,\n",
       " 'splitter': 'best'}"
      ]
     },
     "execution_count": 45,
     "metadata": {},
     "output_type": "execute_result"
    }
   ],
   "source": [
    "model.get_params()"
   ]
  },
  {
   "cell_type": "code",
   "execution_count": 46,
   "id": "699040be",
   "metadata": {},
   "outputs": [
    {
     "name": "stdout",
     "output_type": "stream",
     "text": [
      "<class 'pandas.core.frame.DataFrame'>\n",
      "RangeIndex: 10000 entries, 0 to 9999\n",
      "Data columns (total 6 columns):\n",
      " #   Column                   Non-Null Count  Dtype  \n",
      "---  ------                   --------------  -----  \n",
      " 0   Type                     10000 non-null  int64  \n",
      " 1   Air temperature [K]      10000 non-null  float64\n",
      " 2   Process temperature [K]  10000 non-null  float64\n",
      " 3   Rotational speed [rpm]   10000 non-null  int64  \n",
      " 4   Torque [Nm]              10000 non-null  float64\n",
      " 5   Tool wear [min]          10000 non-null  int64  \n",
      "dtypes: float64(3), int64(3)\n",
      "memory usage: 468.9 KB\n"
     ]
    }
   ],
   "source": [
    "x.info()"
   ]
  },
  {
   "cell_type": "code",
   "execution_count": 47,
   "id": "fd872f90",
   "metadata": {},
   "outputs": [
    {
     "name": "stdout",
     "output_type": "stream",
     "text": [
      "<class 'pandas.core.series.Series'>\n",
      "RangeIndex: 10000 entries, 0 to 9999\n",
      "Series name: Machine failure\n",
      "Non-Null Count  Dtype\n",
      "--------------  -----\n",
      "10000 non-null  int64\n",
      "dtypes: int64(1)\n",
      "memory usage: 78.2 KB\n"
     ]
    }
   ],
   "source": [
    "y.info()"
   ]
  },
  {
   "cell_type": "code",
   "execution_count": 48,
   "id": "0df7aba1",
   "metadata": {},
   "outputs": [],
   "source": [
    "from sklearn.ensemble import RandomForestClassifier"
   ]
  },
  {
   "cell_type": "code",
   "execution_count": 49,
   "id": "0f91307a",
   "metadata": {},
   "outputs": [],
   "source": [
    "model=RandomForestClassifier()"
   ]
  },
  {
   "cell_type": "code",
   "execution_count": 50,
   "id": "5ea9d3a9",
   "metadata": {},
   "outputs": [
    {
     "data": {
      "text/html": [
       "<style>#sk-container-id-2 {color: black;background-color: white;}#sk-container-id-2 pre{padding: 0;}#sk-container-id-2 div.sk-toggleable {background-color: white;}#sk-container-id-2 label.sk-toggleable__label {cursor: pointer;display: block;width: 100%;margin-bottom: 0;padding: 0.3em;box-sizing: border-box;text-align: center;}#sk-container-id-2 label.sk-toggleable__label-arrow:before {content: \"▸\";float: left;margin-right: 0.25em;color: #696969;}#sk-container-id-2 label.sk-toggleable__label-arrow:hover:before {color: black;}#sk-container-id-2 div.sk-estimator:hover label.sk-toggleable__label-arrow:before {color: black;}#sk-container-id-2 div.sk-toggleable__content {max-height: 0;max-width: 0;overflow: hidden;text-align: left;background-color: #f0f8ff;}#sk-container-id-2 div.sk-toggleable__content pre {margin: 0.2em;color: black;border-radius: 0.25em;background-color: #f0f8ff;}#sk-container-id-2 input.sk-toggleable__control:checked~div.sk-toggleable__content {max-height: 200px;max-width: 100%;overflow: auto;}#sk-container-id-2 input.sk-toggleable__control:checked~label.sk-toggleable__label-arrow:before {content: \"▾\";}#sk-container-id-2 div.sk-estimator input.sk-toggleable__control:checked~label.sk-toggleable__label {background-color: #d4ebff;}#sk-container-id-2 div.sk-label input.sk-toggleable__control:checked~label.sk-toggleable__label {background-color: #d4ebff;}#sk-container-id-2 input.sk-hidden--visually {border: 0;clip: rect(1px 1px 1px 1px);clip: rect(1px, 1px, 1px, 1px);height: 1px;margin: -1px;overflow: hidden;padding: 0;position: absolute;width: 1px;}#sk-container-id-2 div.sk-estimator {font-family: monospace;background-color: #f0f8ff;border: 1px dotted black;border-radius: 0.25em;box-sizing: border-box;margin-bottom: 0.5em;}#sk-container-id-2 div.sk-estimator:hover {background-color: #d4ebff;}#sk-container-id-2 div.sk-parallel-item::after {content: \"\";width: 100%;border-bottom: 1px solid gray;flex-grow: 1;}#sk-container-id-2 div.sk-label:hover label.sk-toggleable__label {background-color: #d4ebff;}#sk-container-id-2 div.sk-serial::before {content: \"\";position: absolute;border-left: 1px solid gray;box-sizing: border-box;top: 0;bottom: 0;left: 50%;z-index: 0;}#sk-container-id-2 div.sk-serial {display: flex;flex-direction: column;align-items: center;background-color: white;padding-right: 0.2em;padding-left: 0.2em;position: relative;}#sk-container-id-2 div.sk-item {position: relative;z-index: 1;}#sk-container-id-2 div.sk-parallel {display: flex;align-items: stretch;justify-content: center;background-color: white;position: relative;}#sk-container-id-2 div.sk-item::before, #sk-container-id-2 div.sk-parallel-item::before {content: \"\";position: absolute;border-left: 1px solid gray;box-sizing: border-box;top: 0;bottom: 0;left: 50%;z-index: -1;}#sk-container-id-2 div.sk-parallel-item {display: flex;flex-direction: column;z-index: 1;position: relative;background-color: white;}#sk-container-id-2 div.sk-parallel-item:first-child::after {align-self: flex-end;width: 50%;}#sk-container-id-2 div.sk-parallel-item:last-child::after {align-self: flex-start;width: 50%;}#sk-container-id-2 div.sk-parallel-item:only-child::after {width: 0;}#sk-container-id-2 div.sk-dashed-wrapped {border: 1px dashed gray;margin: 0 0.4em 0.5em 0.4em;box-sizing: border-box;padding-bottom: 0.4em;background-color: white;}#sk-container-id-2 div.sk-label label {font-family: monospace;font-weight: bold;display: inline-block;line-height: 1.2em;}#sk-container-id-2 div.sk-label-container {text-align: center;}#sk-container-id-2 div.sk-container {/* jupyter's `normalize.less` sets `[hidden] { display: none; }` but bootstrap.min.css set `[hidden] { display: none !important; }` so we also need the `!important` here to be able to override the default hidden behavior on the sphinx rendered scikit-learn.org. See: https://github.com/scikit-learn/scikit-learn/issues/21755 */display: inline-block !important;position: relative;}#sk-container-id-2 div.sk-text-repr-fallback {display: none;}</style><div id=\"sk-container-id-2\" class=\"sk-top-container\"><div class=\"sk-text-repr-fallback\"><pre>RandomForestClassifier()</pre><b>In a Jupyter environment, please rerun this cell to show the HTML representation or trust the notebook. <br />On GitHub, the HTML representation is unable to render, please try loading this page with nbviewer.org.</b></div><div class=\"sk-container\" hidden><div class=\"sk-item\"><div class=\"sk-estimator sk-toggleable\"><input class=\"sk-toggleable__control sk-hidden--visually\" id=\"sk-estimator-id-2\" type=\"checkbox\" checked><label for=\"sk-estimator-id-2\" class=\"sk-toggleable__label sk-toggleable__label-arrow\">RandomForestClassifier</label><div class=\"sk-toggleable__content\"><pre>RandomForestClassifier()</pre></div></div></div></div></div>"
      ],
      "text/plain": [
       "RandomForestClassifier()"
      ]
     },
     "execution_count": 50,
     "metadata": {},
     "output_type": "execute_result"
    }
   ],
   "source": [
    "\n",
    "model.fit(x,y)"
   ]
  },
  {
   "cell_type": "code",
   "execution_count": 51,
   "id": "ba9f0f2d",
   "metadata": {},
   "outputs": [],
   "source": [
    "predrfc=model.predict(x)"
   ]
  },
  {
   "cell_type": "code",
   "execution_count": 52,
   "id": "3eb6368f",
   "metadata": {},
   "outputs": [
    {
     "name": "stdout",
     "output_type": "stream",
     "text": [
      "              precision    recall  f1-score   support\n",
      "\n",
      "           0       1.00      1.00      1.00      9661\n",
      "           1       1.00      1.00      1.00       339\n",
      "\n",
      "    accuracy                           1.00     10000\n",
      "   macro avg       1.00      1.00      1.00     10000\n",
      "weighted avg       1.00      1.00      1.00     10000\n",
      "\n"
     ]
    }
   ],
   "source": [
    "print(classification_report(y,predrfc))"
   ]
  },
  {
   "cell_type": "code",
   "execution_count": 53,
   "id": "5293b38f",
   "metadata": {},
   "outputs": [
    {
     "data": {
      "text/plain": [
       "1.0"
      ]
     },
     "execution_count": 53,
     "metadata": {},
     "output_type": "execute_result"
    }
   ],
   "source": [
    "accuracy_score(y,predrfc)"
   ]
  },
  {
   "cell_type": "code",
   "execution_count": 54,
   "id": "47b5eec6",
   "metadata": {},
   "outputs": [
    {
     "data": {
      "text/plain": [
       "<Axes: >"
      ]
     },
     "execution_count": 54,
     "metadata": {},
     "output_type": "execute_result"
    },
    {
     "data": {
      "image/png": "[encoded data removed]",
      "text/plain": [
       "<Figure size 640x480 with 1 Axes>"
      ]
     },
     "metadata": {},
     "output_type": "display_data"
    }
   ],
   "source": [
    "feat=pd.Series(model.feature_importances_,index=x.columns)\n",
    "\n",
    "feat.plot(kind='barh')"
   ]
  },
  {
   "cell_type": "code",
   "execution_count": 58,
   "id": "6e1a3dda",
   "metadata": {},
   "outputs": [],
   "source": [
    "#Test data\n",
    "tpredtest=model.predict(x[7001:])"
   ]
  },
  {
   "cell_type": "code",
   "execution_count": 56,
   "id": "ac164e25",
   "metadata": {},
   "outputs": [
    {
     "data": {
      "text/plain": [
       "1.0"
      ]
     },
     "execution_count": 56,
     "metadata": {},
     "output_type": "execute_result"
    }
   ],
   "source": [
    "accuracy_score(tpredtest,y[7001:])"
   ]
  },
  {
   "cell_type": "code",
   "execution_count": 57,
   "id": "a2efc4c9",
   "metadata": {},
   "outputs": [
    {
     "data": {
      "text/plain": [
       "<Axes: >"
      ]
     },
     "execution_count": 57,
     "metadata": {},
     "output_type": "execute_result"
    },
    {
     "data": {
      "image/png": "[encoded data removed]",
      "text/plain": [
       "<Figure size 640x480 with 1 Axes>"
      ]
     },
     "metadata": {},
     "output_type": "display_data"
    }
   ],
   "source": [
    "feat=pd.Series(model.feature_importances_,index=x.columns)\n",
    "\n",
    "feat.plot(kind='bar')"
   ]
  },
  {
   "cell_type": "code",
   "execution_count": null,
   "id": "e40e29ee",
   "metadata": {},
   "outputs": [],
   "source": []
  }
 ],
 "metadata": {
  "kernelspec": {
   "display_name": "Python 3 (ipykernel)",
   "language": "python",
   "name": "python3"
  },
  "language_info": {
   "codemirror_mode": {
    "name": "ipython",
    "version": 3
   },
   "file_extension": ".py",
   "mimetype": "text/x-python",
   "name": "python",
   "nbconvert_exporter": "python",
   "pygments_lexer": "ipython3",
   "version": "3.10.9"
  }
 },
 "nbformat": 4,
 "nbformat_minor": 5
}
